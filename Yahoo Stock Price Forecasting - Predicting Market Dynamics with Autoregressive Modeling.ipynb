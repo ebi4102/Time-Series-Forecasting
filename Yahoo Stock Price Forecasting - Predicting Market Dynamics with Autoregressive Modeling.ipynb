{
 "cells": [
  {
   "cell_type": "markdown",
   "id": "0a7b7093",
   "metadata": {},
   "source": [
    "### Import Necessary Libraries"
   ]
  },
  {
   "cell_type": "code",
   "execution_count": 1,
   "id": "b5b2c098",
   "metadata": {},
   "outputs": [],
   "source": [
    "import pandas as pd\n",
    "import numpy as np\n",
    "import matplotlib.pyplot as plt\n",
    "import seaborn as sns\n",
    "import statsmodels"
   ]
  },
  {
   "cell_type": "code",
   "execution_count": 2,
   "id": "a759d839",
   "metadata": {},
   "outputs": [],
   "source": [
    "from statsmodels.tsa import ar_model"
   ]
  },
  {
   "cell_type": "code",
   "execution_count": 3,
   "id": "d15f9480",
   "metadata": {},
   "outputs": [],
   "source": [
    "from sklearn.metrics import mean_squared_error"
   ]
  },
  {
   "cell_type": "markdown",
   "id": "3797d5ce",
   "metadata": {},
   "source": [
    "### Read \"yahoo_stock.csv\" and set it to dataframe variable"
   ]
  },
  {
   "cell_type": "code",
   "execution_count": 4,
   "id": "70dd91b3",
   "metadata": {},
   "outputs": [],
   "source": [
    "df=pd.read_csv('yahoo_stock.csv')"
   ]
  },
  {
   "cell_type": "markdown",
   "id": "1952c00e",
   "metadata": {},
   "source": [
    "### View the top 5 rows"
   ]
  },
  {
   "cell_type": "code",
   "execution_count": 5,
   "id": "b9c33d1c",
   "metadata": {},
   "outputs": [
    {
     "data": {
      "text/html": [
       "<div>\n",
       "<style scoped>\n",
       "    .dataframe tbody tr th:only-of-type {\n",
       "        vertical-align: middle;\n",
       "    }\n",
       "\n",
       "    .dataframe tbody tr th {\n",
       "        vertical-align: top;\n",
       "    }\n",
       "\n",
       "    .dataframe thead th {\n",
       "        text-align: right;\n",
       "    }\n",
       "</style>\n",
       "<table border=\"1\" class=\"dataframe\">\n",
       "  <thead>\n",
       "    <tr style=\"text-align: right;\">\n",
       "      <th></th>\n",
       "      <th>Date</th>\n",
       "      <th>High</th>\n",
       "      <th>Low</th>\n",
       "      <th>Open</th>\n",
       "      <th>Close</th>\n",
       "      <th>Volume</th>\n",
       "      <th>Adj Close</th>\n",
       "    </tr>\n",
       "  </thead>\n",
       "  <tbody>\n",
       "    <tr>\n",
       "      <th>0</th>\n",
       "      <td>2015-11-23</td>\n",
       "      <td>2095.610107</td>\n",
       "      <td>2081.389893</td>\n",
       "      <td>2089.409912</td>\n",
       "      <td>2086.590088</td>\n",
       "      <td>3.587980e+09</td>\n",
       "      <td>2086.590088</td>\n",
       "    </tr>\n",
       "    <tr>\n",
       "      <th>1</th>\n",
       "      <td>2015-11-24</td>\n",
       "      <td>2094.120117</td>\n",
       "      <td>2070.290039</td>\n",
       "      <td>2084.419922</td>\n",
       "      <td>2089.139893</td>\n",
       "      <td>3.884930e+09</td>\n",
       "      <td>2089.139893</td>\n",
       "    </tr>\n",
       "    <tr>\n",
       "      <th>2</th>\n",
       "      <td>2015-11-25</td>\n",
       "      <td>2093.000000</td>\n",
       "      <td>2086.300049</td>\n",
       "      <td>2089.300049</td>\n",
       "      <td>2088.870117</td>\n",
       "      <td>2.852940e+09</td>\n",
       "      <td>2088.870117</td>\n",
       "    </tr>\n",
       "    <tr>\n",
       "      <th>3</th>\n",
       "      <td>2015-11-26</td>\n",
       "      <td>2093.000000</td>\n",
       "      <td>2086.300049</td>\n",
       "      <td>2089.300049</td>\n",
       "      <td>2088.870117</td>\n",
       "      <td>2.852940e+09</td>\n",
       "      <td>2088.870117</td>\n",
       "    </tr>\n",
       "    <tr>\n",
       "      <th>4</th>\n",
       "      <td>2015-11-27</td>\n",
       "      <td>2093.290039</td>\n",
       "      <td>2084.129883</td>\n",
       "      <td>2088.820068</td>\n",
       "      <td>2090.110107</td>\n",
       "      <td>1.466840e+09</td>\n",
       "      <td>2090.110107</td>\n",
       "    </tr>\n",
       "  </tbody>\n",
       "</table>\n",
       "</div>"
      ],
      "text/plain": [
       "         Date         High          Low         Open        Close  \\\n",
       "0  2015-11-23  2095.610107  2081.389893  2089.409912  2086.590088   \n",
       "1  2015-11-24  2094.120117  2070.290039  2084.419922  2089.139893   \n",
       "2  2015-11-25  2093.000000  2086.300049  2089.300049  2088.870117   \n",
       "3  2015-11-26  2093.000000  2086.300049  2089.300049  2088.870117   \n",
       "4  2015-11-27  2093.290039  2084.129883  2088.820068  2090.110107   \n",
       "\n",
       "         Volume    Adj Close  \n",
       "0  3.587980e+09  2086.590088  \n",
       "1  3.884930e+09  2089.139893  \n",
       "2  2.852940e+09  2088.870117  \n",
       "3  2.852940e+09  2088.870117  \n",
       "4  1.466840e+09  2090.110107  "
      ]
     },
     "execution_count": 5,
     "metadata": {},
     "output_type": "execute_result"
    }
   ],
   "source": [
    "df.head()"
   ]
  },
  {
   "cell_type": "markdown",
   "id": "28c4457d",
   "metadata": {},
   "source": [
    "### View info of the data"
   ]
  },
  {
   "cell_type": "code",
   "execution_count": 6,
   "id": "7130ef87",
   "metadata": {},
   "outputs": [
    {
     "name": "stdout",
     "output_type": "stream",
     "text": [
      "<class 'pandas.core.frame.DataFrame'>\n",
      "RangeIndex: 1825 entries, 0 to 1824\n",
      "Data columns (total 7 columns):\n",
      " #   Column     Non-Null Count  Dtype  \n",
      "---  ------     --------------  -----  \n",
      " 0   Date       1825 non-null   object \n",
      " 1   High       1825 non-null   float64\n",
      " 2   Low        1825 non-null   float64\n",
      " 3   Open       1825 non-null   float64\n",
      " 4   Close      1825 non-null   float64\n",
      " 5   Volume     1825 non-null   float64\n",
      " 6   Adj Close  1825 non-null   float64\n",
      "dtypes: float64(6), object(1)\n",
      "memory usage: 99.9+ KB\n"
     ]
    }
   ],
   "source": [
    "df.info()"
   ]
  },
  {
   "cell_type": "markdown",
   "id": "41c4f7cf",
   "metadata": {},
   "source": [
    "### View the basic statistical information about the data"
   ]
  },
  {
   "cell_type": "code",
   "execution_count": 7,
   "id": "43433b55",
   "metadata": {},
   "outputs": [
    {
     "data": {
      "text/html": [
       "<div>\n",
       "<style scoped>\n",
       "    .dataframe tbody tr th:only-of-type {\n",
       "        vertical-align: middle;\n",
       "    }\n",
       "\n",
       "    .dataframe tbody tr th {\n",
       "        vertical-align: top;\n",
       "    }\n",
       "\n",
       "    .dataframe thead th {\n",
       "        text-align: right;\n",
       "    }\n",
       "</style>\n",
       "<table border=\"1\" class=\"dataframe\">\n",
       "  <thead>\n",
       "    <tr style=\"text-align: right;\">\n",
       "      <th></th>\n",
       "      <th>High</th>\n",
       "      <th>Low</th>\n",
       "      <th>Open</th>\n",
       "      <th>Close</th>\n",
       "      <th>Volume</th>\n",
       "      <th>Adj Close</th>\n",
       "    </tr>\n",
       "  </thead>\n",
       "  <tbody>\n",
       "    <tr>\n",
       "      <th>count</th>\n",
       "      <td>1825.000000</td>\n",
       "      <td>1825.000000</td>\n",
       "      <td>1825.000000</td>\n",
       "      <td>1825.000000</td>\n",
       "      <td>1.825000e+03</td>\n",
       "      <td>1825.000000</td>\n",
       "    </tr>\n",
       "    <tr>\n",
       "      <th>mean</th>\n",
       "      <td>2660.718673</td>\n",
       "      <td>2632.817580</td>\n",
       "      <td>2647.704751</td>\n",
       "      <td>2647.856284</td>\n",
       "      <td>3.869627e+09</td>\n",
       "      <td>2647.856284</td>\n",
       "    </tr>\n",
       "    <tr>\n",
       "      <th>std</th>\n",
       "      <td>409.680853</td>\n",
       "      <td>404.310068</td>\n",
       "      <td>407.169994</td>\n",
       "      <td>407.301177</td>\n",
       "      <td>1.087593e+09</td>\n",
       "      <td>407.301177</td>\n",
       "    </tr>\n",
       "    <tr>\n",
       "      <th>min</th>\n",
       "      <td>1847.000000</td>\n",
       "      <td>1810.099976</td>\n",
       "      <td>1833.400024</td>\n",
       "      <td>1829.079956</td>\n",
       "      <td>1.296540e+09</td>\n",
       "      <td>1829.079956</td>\n",
       "    </tr>\n",
       "    <tr>\n",
       "      <th>25%</th>\n",
       "      <td>2348.350098</td>\n",
       "      <td>2322.250000</td>\n",
       "      <td>2341.979980</td>\n",
       "      <td>2328.949951</td>\n",
       "      <td>3.257950e+09</td>\n",
       "      <td>2328.949951</td>\n",
       "    </tr>\n",
       "    <tr>\n",
       "      <th>50%</th>\n",
       "      <td>2696.250000</td>\n",
       "      <td>2667.840088</td>\n",
       "      <td>2685.489990</td>\n",
       "      <td>2683.340088</td>\n",
       "      <td>3.609740e+09</td>\n",
       "      <td>2683.340088</td>\n",
       "    </tr>\n",
       "    <tr>\n",
       "      <th>75%</th>\n",
       "      <td>2930.790039</td>\n",
       "      <td>2900.709961</td>\n",
       "      <td>2913.860107</td>\n",
       "      <td>2917.520020</td>\n",
       "      <td>4.142850e+09</td>\n",
       "      <td>2917.520020</td>\n",
       "    </tr>\n",
       "    <tr>\n",
       "      <th>max</th>\n",
       "      <td>3645.989990</td>\n",
       "      <td>3600.159912</td>\n",
       "      <td>3612.090088</td>\n",
       "      <td>3626.909912</td>\n",
       "      <td>9.044690e+09</td>\n",
       "      <td>3626.909912</td>\n",
       "    </tr>\n",
       "  </tbody>\n",
       "</table>\n",
       "</div>"
      ],
      "text/plain": [
       "              High          Low         Open        Close        Volume  \\\n",
       "count  1825.000000  1825.000000  1825.000000  1825.000000  1.825000e+03   \n",
       "mean   2660.718673  2632.817580  2647.704751  2647.856284  3.869627e+09   \n",
       "std     409.680853   404.310068   407.169994   407.301177  1.087593e+09   \n",
       "min    1847.000000  1810.099976  1833.400024  1829.079956  1.296540e+09   \n",
       "25%    2348.350098  2322.250000  2341.979980  2328.949951  3.257950e+09   \n",
       "50%    2696.250000  2667.840088  2685.489990  2683.340088  3.609740e+09   \n",
       "75%    2930.790039  2900.709961  2913.860107  2917.520020  4.142850e+09   \n",
       "max    3645.989990  3600.159912  3612.090088  3626.909912  9.044690e+09   \n",
       "\n",
       "         Adj Close  \n",
       "count  1825.000000  \n",
       "mean   2647.856284  \n",
       "std     407.301177  \n",
       "min    1829.079956  \n",
       "25%    2328.949951  \n",
       "50%    2683.340088  \n",
       "75%    2917.520020  \n",
       "max    3626.909912  "
      ]
     },
     "execution_count": 7,
     "metadata": {},
     "output_type": "execute_result"
    }
   ],
   "source": [
    "df.describe()"
   ]
  },
  {
   "cell_type": "markdown",
   "id": "baded2d7",
   "metadata": {},
   "source": [
    "### Check for null values"
   ]
  },
  {
   "cell_type": "code",
   "execution_count": 8,
   "id": "deeddff4",
   "metadata": {},
   "outputs": [
    {
     "data": {
      "text/plain": [
       "Date         0\n",
       "High         0\n",
       "Low          0\n",
       "Open         0\n",
       "Close        0\n",
       "Volume       0\n",
       "Adj Close    0\n",
       "dtype: int64"
      ]
     },
     "execution_count": 8,
     "metadata": {},
     "output_type": "execute_result"
    }
   ],
   "source": [
    "df.isna().sum()"
   ]
  },
  {
   "cell_type": "markdown",
   "id": "4e605fa9",
   "metadata": {},
   "source": [
    "### Change datatype of 'Timestamp' column to datetime format"
   ]
  },
  {
   "cell_type": "code",
   "execution_count": 9,
   "id": "b3e46bee",
   "metadata": {},
   "outputs": [
    {
     "data": {
      "text/html": [
       "<div>\n",
       "<style scoped>\n",
       "    .dataframe tbody tr th:only-of-type {\n",
       "        vertical-align: middle;\n",
       "    }\n",
       "\n",
       "    .dataframe tbody tr th {\n",
       "        vertical-align: top;\n",
       "    }\n",
       "\n",
       "    .dataframe thead th {\n",
       "        text-align: right;\n",
       "    }\n",
       "</style>\n",
       "<table border=\"1\" class=\"dataframe\">\n",
       "  <thead>\n",
       "    <tr style=\"text-align: right;\">\n",
       "      <th></th>\n",
       "      <th>Date</th>\n",
       "      <th>High</th>\n",
       "      <th>Low</th>\n",
       "      <th>Open</th>\n",
       "      <th>Close</th>\n",
       "      <th>Volume</th>\n",
       "      <th>Adj Close</th>\n",
       "    </tr>\n",
       "  </thead>\n",
       "  <tbody>\n",
       "    <tr>\n",
       "      <th>0</th>\n",
       "      <td>2015-11-23</td>\n",
       "      <td>2095.610107</td>\n",
       "      <td>2081.389893</td>\n",
       "      <td>2089.409912</td>\n",
       "      <td>2086.590088</td>\n",
       "      <td>3.587980e+09</td>\n",
       "      <td>2086.590088</td>\n",
       "    </tr>\n",
       "    <tr>\n",
       "      <th>1</th>\n",
       "      <td>2015-11-24</td>\n",
       "      <td>2094.120117</td>\n",
       "      <td>2070.290039</td>\n",
       "      <td>2084.419922</td>\n",
       "      <td>2089.139893</td>\n",
       "      <td>3.884930e+09</td>\n",
       "      <td>2089.139893</td>\n",
       "    </tr>\n",
       "    <tr>\n",
       "      <th>2</th>\n",
       "      <td>2015-11-25</td>\n",
       "      <td>2093.000000</td>\n",
       "      <td>2086.300049</td>\n",
       "      <td>2089.300049</td>\n",
       "      <td>2088.870117</td>\n",
       "      <td>2.852940e+09</td>\n",
       "      <td>2088.870117</td>\n",
       "    </tr>\n",
       "    <tr>\n",
       "      <th>3</th>\n",
       "      <td>2015-11-26</td>\n",
       "      <td>2093.000000</td>\n",
       "      <td>2086.300049</td>\n",
       "      <td>2089.300049</td>\n",
       "      <td>2088.870117</td>\n",
       "      <td>2.852940e+09</td>\n",
       "      <td>2088.870117</td>\n",
       "    </tr>\n",
       "    <tr>\n",
       "      <th>4</th>\n",
       "      <td>2015-11-27</td>\n",
       "      <td>2093.290039</td>\n",
       "      <td>2084.129883</td>\n",
       "      <td>2088.820068</td>\n",
       "      <td>2090.110107</td>\n",
       "      <td>1.466840e+09</td>\n",
       "      <td>2090.110107</td>\n",
       "    </tr>\n",
       "  </tbody>\n",
       "</table>\n",
       "</div>"
      ],
      "text/plain": [
       "        Date         High          Low         Open        Close  \\\n",
       "0 2015-11-23  2095.610107  2081.389893  2089.409912  2086.590088   \n",
       "1 2015-11-24  2094.120117  2070.290039  2084.419922  2089.139893   \n",
       "2 2015-11-25  2093.000000  2086.300049  2089.300049  2088.870117   \n",
       "3 2015-11-26  2093.000000  2086.300049  2089.300049  2088.870117   \n",
       "4 2015-11-27  2093.290039  2084.129883  2088.820068  2090.110107   \n",
       "\n",
       "         Volume    Adj Close  \n",
       "0  3.587980e+09  2086.590088  \n",
       "1  3.884930e+09  2089.139893  \n",
       "2  2.852940e+09  2088.870117  \n",
       "3  2.852940e+09  2088.870117  \n",
       "4  1.466840e+09  2090.110107  "
      ]
     },
     "execution_count": 9,
     "metadata": {},
     "output_type": "execute_result"
    }
   ],
   "source": [
    "df['Date']=pd.to_datetime(df['Date'])\n",
    "df.head()"
   ]
  },
  {
   "cell_type": "markdown",
   "id": "c6c164bb",
   "metadata": {},
   "source": [
    "### Create a new column called months by fetching month data from Timestamp"
   ]
  },
  {
   "cell_type": "code",
   "execution_count": 10,
   "id": "6ec7a5c8",
   "metadata": {},
   "outputs": [
    {
     "data": {
      "text/html": [
       "<div>\n",
       "<style scoped>\n",
       "    .dataframe tbody tr th:only-of-type {\n",
       "        vertical-align: middle;\n",
       "    }\n",
       "\n",
       "    .dataframe tbody tr th {\n",
       "        vertical-align: top;\n",
       "    }\n",
       "\n",
       "    .dataframe thead th {\n",
       "        text-align: right;\n",
       "    }\n",
       "</style>\n",
       "<table border=\"1\" class=\"dataframe\">\n",
       "  <thead>\n",
       "    <tr style=\"text-align: right;\">\n",
       "      <th></th>\n",
       "      <th>Date</th>\n",
       "      <th>High</th>\n",
       "      <th>Low</th>\n",
       "      <th>Open</th>\n",
       "      <th>Close</th>\n",
       "      <th>Volume</th>\n",
       "      <th>Adj Close</th>\n",
       "      <th>Month</th>\n",
       "    </tr>\n",
       "  </thead>\n",
       "  <tbody>\n",
       "    <tr>\n",
       "      <th>0</th>\n",
       "      <td>2015-11-23</td>\n",
       "      <td>2095.610107</td>\n",
       "      <td>2081.389893</td>\n",
       "      <td>2089.409912</td>\n",
       "      <td>2086.590088</td>\n",
       "      <td>3.587980e+09</td>\n",
       "      <td>2086.590088</td>\n",
       "      <td>11</td>\n",
       "    </tr>\n",
       "    <tr>\n",
       "      <th>1</th>\n",
       "      <td>2015-11-24</td>\n",
       "      <td>2094.120117</td>\n",
       "      <td>2070.290039</td>\n",
       "      <td>2084.419922</td>\n",
       "      <td>2089.139893</td>\n",
       "      <td>3.884930e+09</td>\n",
       "      <td>2089.139893</td>\n",
       "      <td>11</td>\n",
       "    </tr>\n",
       "    <tr>\n",
       "      <th>2</th>\n",
       "      <td>2015-11-25</td>\n",
       "      <td>2093.000000</td>\n",
       "      <td>2086.300049</td>\n",
       "      <td>2089.300049</td>\n",
       "      <td>2088.870117</td>\n",
       "      <td>2.852940e+09</td>\n",
       "      <td>2088.870117</td>\n",
       "      <td>11</td>\n",
       "    </tr>\n",
       "    <tr>\n",
       "      <th>3</th>\n",
       "      <td>2015-11-26</td>\n",
       "      <td>2093.000000</td>\n",
       "      <td>2086.300049</td>\n",
       "      <td>2089.300049</td>\n",
       "      <td>2088.870117</td>\n",
       "      <td>2.852940e+09</td>\n",
       "      <td>2088.870117</td>\n",
       "      <td>11</td>\n",
       "    </tr>\n",
       "    <tr>\n",
       "      <th>4</th>\n",
       "      <td>2015-11-27</td>\n",
       "      <td>2093.290039</td>\n",
       "      <td>2084.129883</td>\n",
       "      <td>2088.820068</td>\n",
       "      <td>2090.110107</td>\n",
       "      <td>1.466840e+09</td>\n",
       "      <td>2090.110107</td>\n",
       "      <td>11</td>\n",
       "    </tr>\n",
       "  </tbody>\n",
       "</table>\n",
       "</div>"
      ],
      "text/plain": [
       "        Date         High          Low         Open        Close  \\\n",
       "0 2015-11-23  2095.610107  2081.389893  2089.409912  2086.590088   \n",
       "1 2015-11-24  2094.120117  2070.290039  2084.419922  2089.139893   \n",
       "2 2015-11-25  2093.000000  2086.300049  2089.300049  2088.870117   \n",
       "3 2015-11-26  2093.000000  2086.300049  2089.300049  2088.870117   \n",
       "4 2015-11-27  2093.290039  2084.129883  2088.820068  2090.110107   \n",
       "\n",
       "         Volume    Adj Close  Month  \n",
       "0  3.587980e+09  2086.590088     11  \n",
       "1  3.884930e+09  2089.139893     11  \n",
       "2  2.852940e+09  2088.870117     11  \n",
       "3  2.852940e+09  2088.870117     11  \n",
       "4  1.466840e+09  2090.110107     11  "
      ]
     },
     "execution_count": 10,
     "metadata": {},
     "output_type": "execute_result"
    }
   ],
   "source": [
    "df['Month']= pd.DatetimeIndex(df['Date']).month\n",
    "df.head()"
   ]
  },
  {
   "cell_type": "markdown",
   "id": "a70163a8",
   "metadata": {},
   "source": [
    "### Create a new column called Year by fetching year from Timestamp"
   ]
  },
  {
   "cell_type": "code",
   "execution_count": 11,
   "id": "0e9407b1",
   "metadata": {},
   "outputs": [
    {
     "data": {
      "text/html": [
       "<div>\n",
       "<style scoped>\n",
       "    .dataframe tbody tr th:only-of-type {\n",
       "        vertical-align: middle;\n",
       "    }\n",
       "\n",
       "    .dataframe tbody tr th {\n",
       "        vertical-align: top;\n",
       "    }\n",
       "\n",
       "    .dataframe thead th {\n",
       "        text-align: right;\n",
       "    }\n",
       "</style>\n",
       "<table border=\"1\" class=\"dataframe\">\n",
       "  <thead>\n",
       "    <tr style=\"text-align: right;\">\n",
       "      <th></th>\n",
       "      <th>Date</th>\n",
       "      <th>High</th>\n",
       "      <th>Low</th>\n",
       "      <th>Open</th>\n",
       "      <th>Close</th>\n",
       "      <th>Volume</th>\n",
       "      <th>Adj Close</th>\n",
       "      <th>Month</th>\n",
       "      <th>Year</th>\n",
       "    </tr>\n",
       "  </thead>\n",
       "  <tbody>\n",
       "    <tr>\n",
       "      <th>0</th>\n",
       "      <td>2015-11-23</td>\n",
       "      <td>2095.610107</td>\n",
       "      <td>2081.389893</td>\n",
       "      <td>2089.409912</td>\n",
       "      <td>2086.590088</td>\n",
       "      <td>3.587980e+09</td>\n",
       "      <td>2086.590088</td>\n",
       "      <td>11</td>\n",
       "      <td>2015</td>\n",
       "    </tr>\n",
       "    <tr>\n",
       "      <th>1</th>\n",
       "      <td>2015-11-24</td>\n",
       "      <td>2094.120117</td>\n",
       "      <td>2070.290039</td>\n",
       "      <td>2084.419922</td>\n",
       "      <td>2089.139893</td>\n",
       "      <td>3.884930e+09</td>\n",
       "      <td>2089.139893</td>\n",
       "      <td>11</td>\n",
       "      <td>2015</td>\n",
       "    </tr>\n",
       "    <tr>\n",
       "      <th>2</th>\n",
       "      <td>2015-11-25</td>\n",
       "      <td>2093.000000</td>\n",
       "      <td>2086.300049</td>\n",
       "      <td>2089.300049</td>\n",
       "      <td>2088.870117</td>\n",
       "      <td>2.852940e+09</td>\n",
       "      <td>2088.870117</td>\n",
       "      <td>11</td>\n",
       "      <td>2015</td>\n",
       "    </tr>\n",
       "    <tr>\n",
       "      <th>3</th>\n",
       "      <td>2015-11-26</td>\n",
       "      <td>2093.000000</td>\n",
       "      <td>2086.300049</td>\n",
       "      <td>2089.300049</td>\n",
       "      <td>2088.870117</td>\n",
       "      <td>2.852940e+09</td>\n",
       "      <td>2088.870117</td>\n",
       "      <td>11</td>\n",
       "      <td>2015</td>\n",
       "    </tr>\n",
       "    <tr>\n",
       "      <th>4</th>\n",
       "      <td>2015-11-27</td>\n",
       "      <td>2093.290039</td>\n",
       "      <td>2084.129883</td>\n",
       "      <td>2088.820068</td>\n",
       "      <td>2090.110107</td>\n",
       "      <td>1.466840e+09</td>\n",
       "      <td>2090.110107</td>\n",
       "      <td>11</td>\n",
       "      <td>2015</td>\n",
       "    </tr>\n",
       "  </tbody>\n",
       "</table>\n",
       "</div>"
      ],
      "text/plain": [
       "        Date         High          Low         Open        Close  \\\n",
       "0 2015-11-23  2095.610107  2081.389893  2089.409912  2086.590088   \n",
       "1 2015-11-24  2094.120117  2070.290039  2084.419922  2089.139893   \n",
       "2 2015-11-25  2093.000000  2086.300049  2089.300049  2088.870117   \n",
       "3 2015-11-26  2093.000000  2086.300049  2089.300049  2088.870117   \n",
       "4 2015-11-27  2093.290039  2084.129883  2088.820068  2090.110107   \n",
       "\n",
       "         Volume    Adj Close  Month  Year  \n",
       "0  3.587980e+09  2086.590088     11  2015  \n",
       "1  3.884930e+09  2089.139893     11  2015  \n",
       "2  2.852940e+09  2088.870117     11  2015  \n",
       "3  2.852940e+09  2088.870117     11  2015  \n",
       "4  1.466840e+09  2090.110107     11  2015  "
      ]
     },
     "execution_count": 11,
     "metadata": {},
     "output_type": "execute_result"
    }
   ],
   "source": [
    "df['Year']= pd.DatetimeIndex(df['Date']).year\n",
    "df.head()"
   ]
  },
  {
   "cell_type": "markdown",
   "id": "eba89571",
   "metadata": {},
   "source": [
    "### Create an new column called Date by fetching day from Timestamp"
   ]
  },
  {
   "cell_type": "code",
   "execution_count": 12,
   "id": "873dc48a",
   "metadata": {},
   "outputs": [
    {
     "data": {
      "text/html": [
       "<div>\n",
       "<style scoped>\n",
       "    .dataframe tbody tr th:only-of-type {\n",
       "        vertical-align: middle;\n",
       "    }\n",
       "\n",
       "    .dataframe tbody tr th {\n",
       "        vertical-align: top;\n",
       "    }\n",
       "\n",
       "    .dataframe thead th {\n",
       "        text-align: right;\n",
       "    }\n",
       "</style>\n",
       "<table border=\"1\" class=\"dataframe\">\n",
       "  <thead>\n",
       "    <tr style=\"text-align: right;\">\n",
       "      <th></th>\n",
       "      <th>Date</th>\n",
       "      <th>High</th>\n",
       "      <th>Low</th>\n",
       "      <th>Open</th>\n",
       "      <th>Close</th>\n",
       "      <th>Volume</th>\n",
       "      <th>Adj Close</th>\n",
       "      <th>Month</th>\n",
       "      <th>Year</th>\n",
       "    </tr>\n",
       "  </thead>\n",
       "  <tbody>\n",
       "    <tr>\n",
       "      <th>0</th>\n",
       "      <td>23</td>\n",
       "      <td>2095.610107</td>\n",
       "      <td>2081.389893</td>\n",
       "      <td>2089.409912</td>\n",
       "      <td>2086.590088</td>\n",
       "      <td>3.587980e+09</td>\n",
       "      <td>2086.590088</td>\n",
       "      <td>11</td>\n",
       "      <td>2015</td>\n",
       "    </tr>\n",
       "    <tr>\n",
       "      <th>1</th>\n",
       "      <td>24</td>\n",
       "      <td>2094.120117</td>\n",
       "      <td>2070.290039</td>\n",
       "      <td>2084.419922</td>\n",
       "      <td>2089.139893</td>\n",
       "      <td>3.884930e+09</td>\n",
       "      <td>2089.139893</td>\n",
       "      <td>11</td>\n",
       "      <td>2015</td>\n",
       "    </tr>\n",
       "    <tr>\n",
       "      <th>2</th>\n",
       "      <td>25</td>\n",
       "      <td>2093.000000</td>\n",
       "      <td>2086.300049</td>\n",
       "      <td>2089.300049</td>\n",
       "      <td>2088.870117</td>\n",
       "      <td>2.852940e+09</td>\n",
       "      <td>2088.870117</td>\n",
       "      <td>11</td>\n",
       "      <td>2015</td>\n",
       "    </tr>\n",
       "    <tr>\n",
       "      <th>3</th>\n",
       "      <td>26</td>\n",
       "      <td>2093.000000</td>\n",
       "      <td>2086.300049</td>\n",
       "      <td>2089.300049</td>\n",
       "      <td>2088.870117</td>\n",
       "      <td>2.852940e+09</td>\n",
       "      <td>2088.870117</td>\n",
       "      <td>11</td>\n",
       "      <td>2015</td>\n",
       "    </tr>\n",
       "    <tr>\n",
       "      <th>4</th>\n",
       "      <td>27</td>\n",
       "      <td>2093.290039</td>\n",
       "      <td>2084.129883</td>\n",
       "      <td>2088.820068</td>\n",
       "      <td>2090.110107</td>\n",
       "      <td>1.466840e+09</td>\n",
       "      <td>2090.110107</td>\n",
       "      <td>11</td>\n",
       "      <td>2015</td>\n",
       "    </tr>\n",
       "  </tbody>\n",
       "</table>\n",
       "</div>"
      ],
      "text/plain": [
       "   Date         High          Low         Open        Close        Volume  \\\n",
       "0    23  2095.610107  2081.389893  2089.409912  2086.590088  3.587980e+09   \n",
       "1    24  2094.120117  2070.290039  2084.419922  2089.139893  3.884930e+09   \n",
       "2    25  2093.000000  2086.300049  2089.300049  2088.870117  2.852940e+09   \n",
       "3    26  2093.000000  2086.300049  2089.300049  2088.870117  2.852940e+09   \n",
       "4    27  2093.290039  2084.129883  2088.820068  2090.110107  1.466840e+09   \n",
       "\n",
       "     Adj Close  Month  Year  \n",
       "0  2086.590088     11  2015  \n",
       "1  2089.139893     11  2015  \n",
       "2  2088.870117     11  2015  \n",
       "3  2088.870117     11  2015  \n",
       "4  2090.110107     11  2015  "
      ]
     },
     "execution_count": 12,
     "metadata": {},
     "output_type": "execute_result"
    }
   ],
   "source": [
    "df['Date']= pd.DatetimeIndex(df['Date']).day\n",
    "df.head()"
   ]
  },
  {
   "cell_type": "markdown",
   "id": "b0ac8bce",
   "metadata": {},
   "source": [
    "### Delete the columns 'Date'"
   ]
  },
  {
   "cell_type": "code",
   "execution_count": 13,
   "id": "bf49d1b9",
   "metadata": {},
   "outputs": [
    {
     "data": {
      "text/html": [
       "<div>\n",
       "<style scoped>\n",
       "    .dataframe tbody tr th:only-of-type {\n",
       "        vertical-align: middle;\n",
       "    }\n",
       "\n",
       "    .dataframe tbody tr th {\n",
       "        vertical-align: top;\n",
       "    }\n",
       "\n",
       "    .dataframe thead th {\n",
       "        text-align: right;\n",
       "    }\n",
       "</style>\n",
       "<table border=\"1\" class=\"dataframe\">\n",
       "  <thead>\n",
       "    <tr style=\"text-align: right;\">\n",
       "      <th></th>\n",
       "      <th>High</th>\n",
       "      <th>Low</th>\n",
       "      <th>Open</th>\n",
       "      <th>Close</th>\n",
       "      <th>Volume</th>\n",
       "      <th>Adj Close</th>\n",
       "      <th>Month</th>\n",
       "      <th>Year</th>\n",
       "    </tr>\n",
       "  </thead>\n",
       "  <tbody>\n",
       "    <tr>\n",
       "      <th>0</th>\n",
       "      <td>2095.610107</td>\n",
       "      <td>2081.389893</td>\n",
       "      <td>2089.409912</td>\n",
       "      <td>2086.590088</td>\n",
       "      <td>3.587980e+09</td>\n",
       "      <td>2086.590088</td>\n",
       "      <td>11</td>\n",
       "      <td>2015</td>\n",
       "    </tr>\n",
       "    <tr>\n",
       "      <th>1</th>\n",
       "      <td>2094.120117</td>\n",
       "      <td>2070.290039</td>\n",
       "      <td>2084.419922</td>\n",
       "      <td>2089.139893</td>\n",
       "      <td>3.884930e+09</td>\n",
       "      <td>2089.139893</td>\n",
       "      <td>11</td>\n",
       "      <td>2015</td>\n",
       "    </tr>\n",
       "    <tr>\n",
       "      <th>2</th>\n",
       "      <td>2093.000000</td>\n",
       "      <td>2086.300049</td>\n",
       "      <td>2089.300049</td>\n",
       "      <td>2088.870117</td>\n",
       "      <td>2.852940e+09</td>\n",
       "      <td>2088.870117</td>\n",
       "      <td>11</td>\n",
       "      <td>2015</td>\n",
       "    </tr>\n",
       "    <tr>\n",
       "      <th>3</th>\n",
       "      <td>2093.000000</td>\n",
       "      <td>2086.300049</td>\n",
       "      <td>2089.300049</td>\n",
       "      <td>2088.870117</td>\n",
       "      <td>2.852940e+09</td>\n",
       "      <td>2088.870117</td>\n",
       "      <td>11</td>\n",
       "      <td>2015</td>\n",
       "    </tr>\n",
       "    <tr>\n",
       "      <th>4</th>\n",
       "      <td>2093.290039</td>\n",
       "      <td>2084.129883</td>\n",
       "      <td>2088.820068</td>\n",
       "      <td>2090.110107</td>\n",
       "      <td>1.466840e+09</td>\n",
       "      <td>2090.110107</td>\n",
       "      <td>11</td>\n",
       "      <td>2015</td>\n",
       "    </tr>\n",
       "  </tbody>\n",
       "</table>\n",
       "</div>"
      ],
      "text/plain": [
       "          High          Low         Open        Close        Volume  \\\n",
       "0  2095.610107  2081.389893  2089.409912  2086.590088  3.587980e+09   \n",
       "1  2094.120117  2070.290039  2084.419922  2089.139893  3.884930e+09   \n",
       "2  2093.000000  2086.300049  2089.300049  2088.870117  2.852940e+09   \n",
       "3  2093.000000  2086.300049  2089.300049  2088.870117  2.852940e+09   \n",
       "4  2093.290039  2084.129883  2088.820068  2090.110107  1.466840e+09   \n",
       "\n",
       "     Adj Close  Month  Year  \n",
       "0  2086.590088     11  2015  \n",
       "1  2089.139893     11  2015  \n",
       "2  2088.870117     11  2015  \n",
       "3  2088.870117     11  2015  \n",
       "4  2090.110107     11  2015  "
      ]
     },
     "execution_count": 13,
     "metadata": {},
     "output_type": "execute_result"
    }
   ],
   "source": [
    "df.drop(columns='Date',inplace=True)\n",
    "df.head()"
   ]
  },
  {
   "cell_type": "markdown",
   "id": "4c45e842",
   "metadata": {},
   "source": [
    "### Create a jointplot of Open vs Close"
   ]
  },
  {
   "cell_type": "code",
   "execution_count": 14,
   "id": "4940767c",
   "metadata": {},
   "outputs": [
    {
     "data": {
      "text/plain": [
       "<seaborn.axisgrid.JointGrid at 0x2295c39c0d0>"
      ]
     },
     "execution_count": 14,
     "metadata": {},
     "output_type": "execute_result"
    },
    {
     "data": {
      "image/png": "[encoded data removed]",
      "text/plain": [
       "<Figure size 600x600 with 3 Axes>"
      ]
     },
     "metadata": {},
     "output_type": "display_data"
    }
   ],
   "source": [
    "sns.jointplot(x=df['Open'],y=df['Close'],kind='reg')"
   ]
  },
  {
   "cell_type": "markdown",
   "id": "38da0641",
   "metadata": {},
   "source": [
    "### Create a jointplot showing the kde distributions of Highest and Lowest Prices of stock price"
   ]
  },
  {
   "cell_type": "code",
   "execution_count": 15,
   "id": "578944d8",
   "metadata": {},
   "outputs": [
    {
     "data": {
      "text/plain": [
       "<seaborn.axisgrid.JointGrid at 0x2295de8ee50>"
      ]
     },
     "execution_count": 15,
     "metadata": {},
     "output_type": "execute_result"
    },
    {
     "data": {
      "image/png": "[encoded data removed]",
      "text/plain": [
       "<Figure size 600x600 with 3 Axes>"
      ]
     },
     "metadata": {},
     "output_type": "display_data"
    }
   ],
   "source": [
    "sns.jointplot(x=df['High'],y=df['Low'],kind='kde')"
   ]
  },
  {
   "cell_type": "markdown",
   "id": "51e33b56",
   "metadata": {},
   "source": [
    "### Create a countplot to show the volume of shareholders"
   ]
  },
  {
   "cell_type": "code",
   "execution_count": 16,
   "id": "37e2828a",
   "metadata": {},
   "outputs": [
    {
     "data": {
      "text/plain": [
       "<Axes: xlabel='Volume', ylabel='count'>"
      ]
     },
     "execution_count": 16,
     "metadata": {},
     "output_type": "execute_result"
    },
    {
     "data": {
      "image/png": "[encoded data removed]",
      "text/plain": [
       "<Figure size 640x480 with 1 Axes>"
      ]
     },
     "metadata": {},
     "output_type": "display_data"
    }
   ],
   "source": [
    "sns.countplot(x=df['Volume'])"
   ]
  },
  {
   "cell_type": "markdown",
   "id": "13689db3",
   "metadata": {},
   "source": [
    "### Create a heatmap to visualize the correlation between columns"
   ]
  },
  {
   "cell_type": "code",
   "execution_count": 17,
   "id": "93f85a55",
   "metadata": {},
   "outputs": [
    {
     "data": {
      "text/plain": [
       "<Axes: >"
      ]
     },
     "execution_count": 17,
     "metadata": {},
     "output_type": "execute_result"
    },
    {
     "data": {
      "image/png": "[encoded data removed]",
      "text/plain": [
       "<Figure size 640x480 with 2 Axes>"
      ]
     },
     "metadata": {},
     "output_type": "display_data"
    }
   ],
   "source": [
    "sns.heatmap(df.corr(numeric_only=True),annot=True)"
   ]
  },
  {
   "cell_type": "markdown",
   "id": "cf6a76e4",
   "metadata": {},
   "source": [
    "### Split the data into features and target variables (X and y)"
   ]
  },
  {
   "cell_type": "code",
   "execution_count": 18,
   "id": "a96b2c18",
   "metadata": {},
   "outputs": [],
   "source": [
    "X=df.drop(columns='Volume')\n",
    "y=df['Volume']"
   ]
  },
  {
   "cell_type": "markdown",
   "id": "e88f5969",
   "metadata": {},
   "source": [
    "### Standardize the data"
   ]
  },
  {
   "cell_type": "code",
   "execution_count": 19,
   "id": "36c37047",
   "metadata": {},
   "outputs": [],
   "source": [
    "from sklearn.preprocessing import StandardScaler"
   ]
  },
  {
   "cell_type": "code",
   "execution_count": 20,
   "id": "fe3169a0",
   "metadata": {},
   "outputs": [],
   "source": [
    "scaler=StandardScaler()\n"
   ]
  },
  {
   "cell_type": "code",
   "execution_count": 21,
   "id": "fa40579f",
   "metadata": {},
   "outputs": [],
   "source": [
    "x_scaled=scaler.fit_transform(X)"
   ]
  },
  {
   "cell_type": "code",
   "execution_count": 22,
   "id": "6260e258",
   "metadata": {},
   "outputs": [
    {
     "data": {
      "text/html": [
       "<div>\n",
       "<style scoped>\n",
       "    .dataframe tbody tr th:only-of-type {\n",
       "        vertical-align: middle;\n",
       "    }\n",
       "\n",
       "    .dataframe tbody tr th {\n",
       "        vertical-align: top;\n",
       "    }\n",
       "\n",
       "    .dataframe thead th {\n",
       "        text-align: right;\n",
       "    }\n",
       "</style>\n",
       "<table border=\"1\" class=\"dataframe\">\n",
       "  <thead>\n",
       "    <tr style=\"text-align: right;\">\n",
       "      <th></th>\n",
       "      <th>High</th>\n",
       "      <th>Low</th>\n",
       "      <th>Open</th>\n",
       "      <th>Close</th>\n",
       "      <th>Adj Close</th>\n",
       "      <th>Month</th>\n",
       "      <th>Year</th>\n",
       "    </tr>\n",
       "  </thead>\n",
       "  <tbody>\n",
       "    <tr>\n",
       "      <th>0</th>\n",
       "      <td>-1.379765</td>\n",
       "      <td>-1.364247</td>\n",
       "      <td>-1.371535</td>\n",
       "      <td>-1.378390</td>\n",
       "      <td>-1.378390</td>\n",
       "      <td>1.30045</td>\n",
       "      <td>-1.997350</td>\n",
       "    </tr>\n",
       "    <tr>\n",
       "      <th>1</th>\n",
       "      <td>-1.383403</td>\n",
       "      <td>-1.391708</td>\n",
       "      <td>-1.383794</td>\n",
       "      <td>-1.372128</td>\n",
       "      <td>-1.372128</td>\n",
       "      <td>1.30045</td>\n",
       "      <td>-1.997350</td>\n",
       "    </tr>\n",
       "    <tr>\n",
       "      <th>2</th>\n",
       "      <td>-1.386138</td>\n",
       "      <td>-1.352099</td>\n",
       "      <td>-1.371805</td>\n",
       "      <td>-1.372791</td>\n",
       "      <td>-1.372791</td>\n",
       "      <td>1.30045</td>\n",
       "      <td>-1.997350</td>\n",
       "    </tr>\n",
       "    <tr>\n",
       "      <th>3</th>\n",
       "      <td>-1.386138</td>\n",
       "      <td>-1.352099</td>\n",
       "      <td>-1.371805</td>\n",
       "      <td>-1.372791</td>\n",
       "      <td>-1.372791</td>\n",
       "      <td>1.30045</td>\n",
       "      <td>-1.997350</td>\n",
       "    </tr>\n",
       "    <tr>\n",
       "      <th>4</th>\n",
       "      <td>-1.385430</td>\n",
       "      <td>-1.357468</td>\n",
       "      <td>-1.372984</td>\n",
       "      <td>-1.369746</td>\n",
       "      <td>-1.369746</td>\n",
       "      <td>1.30045</td>\n",
       "      <td>-1.997350</td>\n",
       "    </tr>\n",
       "    <tr>\n",
       "      <th>...</th>\n",
       "      <td>...</td>\n",
       "      <td>...</td>\n",
       "      <td>...</td>\n",
       "      <td>...</td>\n",
       "      <td>...</td>\n",
       "      <td>...</td>\n",
       "      <td>...</td>\n",
       "    </tr>\n",
       "    <tr>\n",
       "      <th>1820</th>\n",
       "      <td>2.362953</td>\n",
       "      <td>2.393231</td>\n",
       "      <td>2.339849</td>\n",
       "      <td>2.404417</td>\n",
       "      <td>2.404417</td>\n",
       "      <td>1.30045</td>\n",
       "      <td>1.457126</td>\n",
       "    </tr>\n",
       "    <tr>\n",
       "      <th>1821</th>\n",
       "      <td>2.349769</td>\n",
       "      <td>2.364829</td>\n",
       "      <td>2.364784</td>\n",
       "      <td>2.361735</td>\n",
       "      <td>2.361735</td>\n",
       "      <td>1.30045</td>\n",
       "      <td>1.457126</td>\n",
       "    </tr>\n",
       "    <tr>\n",
       "      <th>1822</th>\n",
       "      <td>2.339953</td>\n",
       "      <td>2.312009</td>\n",
       "      <td>2.369157</td>\n",
       "      <td>2.259227</td>\n",
       "      <td>2.259227</td>\n",
       "      <td>1.30045</td>\n",
       "      <td>1.457126</td>\n",
       "    </tr>\n",
       "    <tr>\n",
       "      <th>1823</th>\n",
       "      <td>2.257256</td>\n",
       "      <td>2.253894</td>\n",
       "      <td>2.239740</td>\n",
       "      <td>2.293806</td>\n",
       "      <td>2.293806</td>\n",
       "      <td>1.30045</td>\n",
       "      <td>1.457126</td>\n",
       "    </tr>\n",
       "    <tr>\n",
       "      <th>1824</th>\n",
       "      <td>2.247514</td>\n",
       "      <td>2.286082</td>\n",
       "      <td>2.288628</td>\n",
       "      <td>2.234055</td>\n",
       "      <td>2.234055</td>\n",
       "      <td>1.30045</td>\n",
       "      <td>1.457126</td>\n",
       "    </tr>\n",
       "  </tbody>\n",
       "</table>\n",
       "<p>1825 rows × 7 columns</p>\n",
       "</div>"
      ],
      "text/plain": [
       "          High       Low      Open     Close  Adj Close    Month      Year\n",
       "0    -1.379765 -1.364247 -1.371535 -1.378390  -1.378390  1.30045 -1.997350\n",
       "1    -1.383403 -1.391708 -1.383794 -1.372128  -1.372128  1.30045 -1.997350\n",
       "2    -1.386138 -1.352099 -1.371805 -1.372791  -1.372791  1.30045 -1.997350\n",
       "3    -1.386138 -1.352099 -1.371805 -1.372791  -1.372791  1.30045 -1.997350\n",
       "4    -1.385430 -1.357468 -1.372984 -1.369746  -1.369746  1.30045 -1.997350\n",
       "...        ...       ...       ...       ...        ...      ...       ...\n",
       "1820  2.362953  2.393231  2.339849  2.404417   2.404417  1.30045  1.457126\n",
       "1821  2.349769  2.364829  2.364784  2.361735   2.361735  1.30045  1.457126\n",
       "1822  2.339953  2.312009  2.369157  2.259227   2.259227  1.30045  1.457126\n",
       "1823  2.257256  2.253894  2.239740  2.293806   2.293806  1.30045  1.457126\n",
       "1824  2.247514  2.286082  2.288628  2.234055   2.234055  1.30045  1.457126\n",
       "\n",
       "[1825 rows x 7 columns]"
      ]
     },
     "execution_count": 22,
     "metadata": {},
     "output_type": "execute_result"
    }
   ],
   "source": [
    "pd.DataFrame(x_scaled,columns=X.columns)"
   ]
  },
  {
   "cell_type": "markdown",
   "id": "ffe114e8",
   "metadata": {},
   "source": [
    "### Split the data into training and testing set"
   ]
  },
  {
   "cell_type": "code",
   "execution_count": 23,
   "id": "bad07fb8",
   "metadata": {},
   "outputs": [],
   "source": [
    "train_data = y[:int(0.7 * len(df))]\n",
    "test_data = y[int(0.7 * len(df)):]"
   ]
  },
  {
   "cell_type": "markdown",
   "id": "2ff3d00e",
   "metadata": {},
   "source": [
    "### Create a Auto Regression  model and train it"
   ]
  },
  {
   "cell_type": "code",
   "execution_count": 24,
   "id": "ad5b8c21",
   "metadata": {},
   "outputs": [],
   "source": [
    "from statsmodels.tsa.ar_model import AutoReg"
   ]
  },
  {
   "cell_type": "code",
   "execution_count": 25,
   "id": "202330a3",
   "metadata": {},
   "outputs": [],
   "source": [
    "model = AutoReg(train_data, lags=5)"
   ]
  },
  {
   "cell_type": "code",
   "execution_count": 26,
   "id": "c3c409ea",
   "metadata": {},
   "outputs": [],
   "source": [
    "model_fit = model.fit()"
   ]
  },
  {
   "cell_type": "markdown",
   "id": "7e4df1a2",
   "metadata": {},
   "source": [
    "### Summary of the model"
   ]
  },
  {
   "cell_type": "code",
   "execution_count": 27,
   "id": "11bb7508",
   "metadata": {},
   "outputs": [
    {
     "name": "stdout",
     "output_type": "stream",
     "text": [
      "                            AutoReg Model Results                             \n",
      "==============================================================================\n",
      "Dep. Variable:                 Volume   No. Observations:                 1277\n",
      "Model:                     AutoReg(5)   Log Likelihood              -27268.143\n",
      "Method:               Conditional MLE   S.D. of innovations      494116049.608\n",
      "Date:                Sat, 08 Jun 2024   AIC                          54550.286\n",
      "Time:                        19:48:11   BIC                          54586.325\n",
      "Sample:                             5   HQIC                         54563.823\n",
      "                                 1277                                         \n",
      "==============================================================================\n",
      "                 coef    std err          z      P>|z|      [0.025      0.975]\n",
      "------------------------------------------------------------------------------\n",
      "const       7.887e+08   8.05e+07      9.797      0.000    6.31e+08    9.47e+08\n",
      "Volume.L1      0.8086      0.028     28.937      0.000       0.754       0.863\n",
      "Volume.L2      0.0396      0.036      1.108      0.268      -0.030       0.110\n",
      "Volume.L3     -0.2281      0.035     -6.501      0.000      -0.297      -0.159\n",
      "Volume.L4      0.1506      0.036      4.226      0.000       0.081       0.220\n",
      "Volume.L5      0.0136      0.028      0.486      0.627      -0.041       0.068\n",
      "                                    Roots                                    \n",
      "=============================================================================\n",
      "                  Real          Imaginary           Modulus         Frequency\n",
      "-----------------------------------------------------------------------------\n",
      "AR.1            1.2188           -0.0000j            1.2188           -0.0000\n",
      "AR.2            0.9189           -1.4082j            1.6815           -0.1580\n",
      "AR.3            0.9189           +1.4082j            1.6815            0.1580\n",
      "AR.4           -1.7197           -0.0000j            1.7197           -0.5000\n",
      "AR.5          -12.4378           -0.0000j           12.4378           -0.5000\n",
      "-----------------------------------------------------------------------------\n"
     ]
    }
   ],
   "source": [
    "print(model_fit.summary())"
   ]
  },
  {
   "cell_type": "markdown",
   "id": "4722627b",
   "metadata": {},
   "source": [
    "### Predicting the volume values for the test period using the fitted autoregressive (AR) model and printing the forecasted values."
   ]
  },
  {
   "cell_type": "code",
   "execution_count": 28,
   "id": "44ee5b05",
   "metadata": {},
   "outputs": [
    {
     "name": "stdout",
     "output_type": "stream",
     "text": [
      "1277    3.282056e+09\n",
      "1278    3.374090e+09\n",
      "1279    3.447879e+09\n",
      "1280    3.485860e+09\n",
      "1281    3.511625e+09\n",
      "            ...     \n",
      "1820    3.654717e+09\n",
      "1821    3.654717e+09\n",
      "1822    3.654717e+09\n",
      "1823    3.654717e+09\n",
      "1824    3.654717e+09\n",
      "Length: 548, dtype: float64\n"
     ]
    }
   ],
   "source": [
    "forecast = model_fit.predict(start=len(train_data), end=len(train_data) + len(test_data) - 1)\n",
    "print(forecast)"
   ]
  },
  {
   "cell_type": "markdown",
   "id": "dcec1d57",
   "metadata": {},
   "source": [
    "### Plotting the actual volume values against the forecasted values using an autoregressive (AR) model."
   ]
  },
  {
   "cell_type": "code",
   "execution_count": 29,
   "id": "0ad963cc",
   "metadata": {
    "scrolled": true
   },
   "outputs": [
    {
     "data": {
      "image/png": "[encoded data removed]",
      "text/plain": [
       "<Figure size 1200x600 with 1 Axes>"
      ]
     },
     "metadata": {},
     "output_type": "display_data"
    }
   ],
   "source": [
    "plt.figure(figsize=(12, 6))\n",
    "plt.plot(test_data.index, test_data.values, label='Actual')\n",
    "plt.plot(test_data.index, forecast, color='red', label='Forecast')\n",
    "plt.xlabel('Date')\n",
    "plt.ylabel('Volume')\n",
    "plt.title('Autoregressive (AR) Model Forecasting')\n",
    "plt.legend()\n",
    "plt.show()"
   ]
  },
  {
   "cell_type": "markdown",
   "id": "f22084fb",
   "metadata": {},
   "source": [
    "### Calculate the MSE"
   ]
  },
  {
   "cell_type": "code",
   "execution_count": 30,
   "id": "ea63b1d1",
   "metadata": {},
   "outputs": [
    {
     "name": "stdout",
     "output_type": "stream",
     "text": [
      "Mean Squared Error (MSE): 2.6180729780349947e+18\n"
     ]
    }
   ],
   "source": [
    "mse = mean_squared_error(test_data, forecast)\n",
    "print('Mean Squared Error (MSE):', mse)"
   ]
  }
 ],
 "metadata": {
  "kernelspec": {
   "display_name": "Python 3 (ipykernel)",
   "language": "python",
   "name": "python3"
  },
  "language_info": {
   "codemirror_mode": {
    "name": "ipython",
    "version": 3
   },
   "file_extension": ".py",
   "mimetype": "text/x-python",
   "name": "python",
   "nbconvert_exporter": "python",
   "pygments_lexer": "ipython3",
   "version": "3.11.5"
  }
 },
 "nbformat": 4,
 "nbformat_minor": 5
}
